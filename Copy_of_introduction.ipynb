{
  "nbformat": 4,
  "nbformat_minor": 0,
  "metadata": {
    "org": null,
    "kernelspec": {
      "display_name": "Python 3",
      "language": "python",
      "name": "python3"
    },
    "language_info": {
      "codemirror_mode": {
        "name": "ipython",
        "version": 3
      },
      "file_extension": ".py",
      "mimetype": "text/x-python",
      "name": "python",
      "nbconvert_exporter": "python",
      "pygments_lexer": "ipython3",
      "version": "3.5.2"
    },
    "colab": {
      "name": "Copy of introduction.ipynb",
      "provenance": [],
      "include_colab_link": true
    }
  },
  "cells": [
    {
      "cell_type": "markdown",
      "metadata": {
        "id": "view-in-github",
        "colab_type": "text"
      },
      "source": [
        "<a href=\"https://colab.research.google.com/github/kim-gq/hello-world/blob/master/Copy_of_introduction.ipynb\" target=\"_parent\"><img src=\"https://colab.research.google.com/assets/colab-badge.svg\" alt=\"Open In Colab\"/></a>"
      ]
    },
    {
      "cell_type": "markdown",
      "metadata": {
        "id": "1gT32NyPvnwZ",
        "colab_type": "text"
      },
      "source": [
        "## Introduction\n",
        "\n"
      ]
    },
    {
      "cell_type": "markdown",
      "metadata": {
        "id": "hV_4ec2gvnwd",
        "colab_type": "text"
      },
      "source": [
        "-   Welcome to \"Introduction to Machine Learning\"\n",
        "-   Goals of the course\n",
        "    -   Learn about some machine learning algorithms\n",
        "    -   Use python to practically explore these algorithms with some\n",
        "        simple datasets\n",
        "    -   If nothing else, the course should provide lots of good coding\n",
        "        practice!\n",
        "\n"
      ]
    },
    {
      "cell_type": "markdown",
      "metadata": {
        "id": "xdyUhnbdvnwe",
        "colab_type": "text"
      },
      "source": [
        "## Course Information\n",
        "\n"
      ]
    },
    {
      "cell_type": "markdown",
      "metadata": {
        "id": "wemXaQ4lvnwg",
        "colab_type": "text"
      },
      "source": [
        "-   We'll meet every Thursday 3 - 6 pm\n",
        "-   Short lecture followed by a computer lab\n",
        "-   Grades for attendance and completing the tasks, as well as a final project\n",
        "    -   Should be able to finish the tasks in class\n",
        "-   This week we'll introduce the setup\n",
        "\n"
      ]
    },
    {
      "cell_type": "markdown",
      "metadata": {
        "id": "P2PFkGsPvnwi",
        "colab_type": "text"
      },
      "source": [
        "## Housekeeping\n",
        "\n"
      ]
    },
    {
      "cell_type": "markdown",
      "metadata": {
        "id": "SwRB2-AGvnwl",
        "colab_type": "text"
      },
      "source": [
        "-   Next week is Chuseok, no class\n",
        "-   The week after I will be in CERN for a meeting, no class\n",
        "-   So, meet again next on 26 September and really start the course\n",
        "-   Will need to take mid-semester week and catch up week as regular class weeks\n",
        "\n"
      ]
    },
    {
      "cell_type": "markdown",
      "metadata": {
        "id": "0DSqmtGpvnwm",
        "colab_type": "text"
      },
      "source": [
        "## One slide overview of ML\n",
        "\n"
      ]
    },
    {
      "cell_type": "markdown",
      "metadata": {
        "id": "AQZoSG71vnwn",
        "colab_type": "text"
      },
      "source": [
        "-   Goal of ML: get the computer to solve problems for us\n",
        "    -   I.e. we don't code an algorithm specifically for a problem, but write general algorithms by which the computer may \"learn\" from data\n",
        "-   Two main types of *supervised* problems, where you want the computer to generalize based on some *training* data, which has the answers or *labels*\n",
        "    -   Classification: given some data, does it belong to one category or another?\n",
        "        -   Classify images based on contents of image (this is a dog? a cat?)\n",
        "        -   Given some detector readings, what was the particle that impinged on the detector (electron? photon? muon?)\n",
        "    -   Regression: given some data, what was the underlying real variable that caused the data?\n",
        "        -   Given an image of a person, can you tell how old they are?\n",
        "        -   Given the raw calorimeter readings, what was the energy of the particle\n",
        "-   Also, have *unsupervised learning*, where the training data isn't labelled\n",
        "    -   Does the data tend to clump into categories? How many? What features distinguish the clumps?\n",
        "-   We will be looking at these questions and seeing some answers people have discovered, but today \\ldots\n",
        "\n"
      ]
    },
    {
      "cell_type": "markdown",
      "metadata": {
        "id": "3KxbyUMBvnwp",
        "colab_type": "text"
      },
      "source": [
        "## Computational Setup\n",
        "\n"
      ]
    },
    {
      "cell_type": "markdown",
      "metadata": {
        "id": "hN7W6BTWvnwq",
        "colab_type": "text"
      },
      "source": [
        "-   We will use github classroom and colab\n",
        "-   Github classroom\n",
        "    -   *Git* is a version control system\n",
        "    -   Organized into *repositories*, which keep information about changes made to code\n",
        "    -   *Github* is a cloud service for storing git repositories\n",
        "    -   *Github classroom* is a service whereby you can clone your own\n",
        "        version of my repository for class each week, and I can access and\n",
        "        mark them\n",
        "-   Google colab\n",
        "    -   *Jupyter* is a web interface to (usually) a python repl\n",
        "    -   Allows writing notes and running code in a *notebook*\n",
        "    -   Colab is a google service which provides a jupyter environment in the cloud\n",
        "    -   Can read and save from github repositories after linking to github\n",
        "    -   (If you want to, you can run jupyter locally instead, talk to me\n",
        "        if you want to try this setup)\n",
        "\n"
      ]
    },
    {
      "cell_type": "markdown",
      "metadata": {
        "id": "56n9zLndvnws",
        "colab_type": "text"
      },
      "source": [
        "## Today's Tasks\n",
        "\n"
      ]
    },
    {
      "cell_type": "markdown",
      "metadata": {
        "id": "cDSHOvUmvnwt",
        "colab_type": "text"
      },
      "source": [
        "-   Setup a github account (if you don't have one)\n",
        "-   Join the github classroom and fork this weeks repository\n",
        "    -   <span class=\"underline\">[https://git.io/ml2019](https://git.io/ml2019)</span> should redirect to the classroom page\n",
        "-   Link your github account to google colab\n",
        "-   Open and read this notebook on colab\n",
        "-   Fill in the tasks on the next page\n",
        "\n"
      ]
    },
    {
      "cell_type": "markdown",
      "metadata": {
        "id": "j2BfY0XHvnwu",
        "colab_type": "text"
      },
      "source": [
        "## Coding Tasks\n",
        "\n"
      ]
    },
    {
      "cell_type": "markdown",
      "metadata": {
        "id": "gCfpnhnyvnwv",
        "colab_type": "text"
      },
      "source": [
        "Complete as much of the following as you can. You don't have to do\n",
        "everything, only do what you can without having to look anything\n",
        "up. But **save your work to github so I can see**.\n",
        "\n",
        "**If you can't figure out how to save, ask!!!!**\n",
        "\n",
        "We'll do more or less initial python practice based on everyone's\n",
        "ability.\n",
        "\n"
      ]
    },
    {
      "cell_type": "markdown",
      "metadata": {
        "id": "9dNf8cQ5vnww",
        "colab_type": "text"
      },
      "source": [
        "### Basic Usage\n",
        "\n"
      ]
    },
    {
      "cell_type": "markdown",
      "metadata": {
        "id": "xaXzUaaQvnwx",
        "colab_type": "text"
      },
      "source": [
        "Python commands can be run in a jupyter cell. Type in code in the\n",
        "cell, then hit  SHIFT+ENTER to run the code. It will output the value of\n",
        "the last statement in the cell.  Try running the following cell:\n",
        "\n"
      ]
    },
    {
      "cell_type": "code",
      "metadata": {
        "id": "p7XJYMRpvnwx",
        "colab_type": "code",
        "outputId": "f498118b-d9fb-4c90-a4b3-bb8dfa8d8131",
        "colab": {
          "base_uri": "https://localhost:8080/",
          "height": 34
        }
      },
      "source": [
        "1 + 1"
      ],
      "execution_count": 0,
      "outputs": [
        {
          "output_type": "execute_result",
          "data": {
            "text/plain": [
              "2"
            ]
          },
          "metadata": {
            "tags": []
          },
          "execution_count": 1
        }
      ]
    },
    {
      "cell_type": "markdown",
      "metadata": {
        "id": "Kxy3UbcOvnw1",
        "colab_type": "text"
      },
      "source": [
        "You've used google's servers to calculate a number with python!\n",
        "\n",
        "The python runs the input in a persistent interpreter, that means it\n",
        "remembers after SHIFT+ENTER. See this by running the next two cells:\n",
        "\n"
      ]
    },
    {
      "cell_type": "code",
      "metadata": {
        "id": "k4hN882evnw2",
        "colab_type": "code",
        "colab": {}
      },
      "source": [
        "a = 15"
      ],
      "execution_count": 0,
      "outputs": []
    },
    {
      "cell_type": "code",
      "metadata": {
        "id": "0gFBaBpgvnw6",
        "colab_type": "code",
        "outputId": "2e1b41d0-ee4e-4fef-c8b5-a7ed86ad4b62",
        "colab": {
          "base_uri": "https://localhost:8080/",
          "height": 34
        }
      },
      "source": [
        "a"
      ],
      "execution_count": 0,
      "outputs": [
        {
          "output_type": "execute_result",
          "data": {
            "text/plain": [
              "15"
            ]
          },
          "metadata": {
            "tags": []
          },
          "execution_count": 3
        }
      ]
    },
    {
      "cell_type": "markdown",
      "metadata": {
        "id": "hMuAfWRDvnw9",
        "colab_type": "text"
      },
      "source": [
        "If you run into the trouble and the interpreter goes into a bad state,\n",
        "you can reset the interpreter from the runtime menu. This will stop\n",
        "the current interpreter and start a new one. You will need to rerun\n",
        "all cells that you need the results from.\n",
        "\n",
        "You can also add `print` statements to get additional output\n",
        "\n"
      ]
    },
    {
      "cell_type": "code",
      "metadata": {
        "id": "UC4PaI1Zvnw_",
        "colab_type": "code",
        "outputId": "0f1d60e8-192e-4d98-9086-f9e3d9ea934b",
        "colab": {
          "base_uri": "https://localhost:8080/",
          "height": 52
        }
      },
      "source": [
        "print(\"Hello, world\")\n",
        "\n",
        "1+2+3"
      ],
      "execution_count": 0,
      "outputs": [
        {
          "output_type": "stream",
          "text": [
            "Hello, world\n"
          ],
          "name": "stdout"
        },
        {
          "output_type": "execute_result",
          "data": {
            "text/plain": [
              "6"
            ]
          },
          "metadata": {
            "tags": []
          },
          "execution_count": 5
        }
      ]
    },
    {
      "cell_type": "markdown",
      "metadata": {
        "id": "1iGtnGDRvnxC",
        "colab_type": "text"
      },
      "source": [
        "### A few warmup exercises\n",
        "\n"
      ]
    },
    {
      "cell_type": "markdown",
      "metadata": {
        "id": "-jArjDlDvnxD",
        "colab_type": "text"
      },
      "source": [
        "Do as many as you can, if you can't do one, then skip it.\n",
        "\n",
        "Write a cell which prints out \"안녕, 세상!\"\n",
        "\n"
      ]
    },
    {
      "cell_type": "code",
      "metadata": {
        "id": "OA4ucFWlvnxE",
        "colab_type": "code",
        "outputId": "7e29efea-1fc8-4e5e-bd6a-ea8ef16bd941",
        "colab": {
          "base_uri": "https://localhost:8080/",
          "height": 34
        }
      },
      "source": [
        "print(\"how can I type the Korean?  \")"
      ],
      "execution_count": 0,
      "outputs": [
        {
          "output_type": "stream",
          "text": [
            "how can I type the Korean?\n"
          ],
          "name": "stdout"
        }
      ]
    },
    {
      "cell_type": "markdown",
      "metadata": {
        "id": "wo_o1hIfvnxH",
        "colab_type": "text"
      },
      "source": [
        "Write a cell that prints an approximate numerical value of &pi; (however you wish to get the value is fine)\n",
        "\n"
      ]
    },
    {
      "cell_type": "code",
      "metadata": {
        "id": "CevctLucvnxJ",
        "colab_type": "code",
        "outputId": "7f7ecc0e-5572-49a6-9b07-b0d2370a1240",
        "colab": {
          "base_uri": "https://localhost:8080/",
          "height": 34
        }
      },
      "source": [
        "3.14"
      ],
      "execution_count": 0,
      "outputs": [
        {
          "output_type": "execute_result",
          "data": {
            "text/plain": [
              "3.14"
            ]
          },
          "metadata": {
            "tags": []
          },
          "execution_count": 13
        }
      ]
    },
    {
      "cell_type": "markdown",
      "metadata": {
        "id": "sYM-a6wzvnxL",
        "colab_type": "text"
      },
      "source": [
        "Write a cell which prints the sum of numbers from 1 to 100 inclusive (that is, it prints 1+2+&#x2026;+99+100)\n",
        "\n"
      ]
    },
    {
      "cell_type": "code",
      "metadata": {
        "id": "oOlezzUrvnxM",
        "colab_type": "code",
        "outputId": "619fd03c-72aa-4423-ea5a-e8c6a6a06732",
        "colab": {
          "base_uri": "https://localhost:8080/",
          "height": 34
        }
      },
      "source": [
        "sum(i for i in range(1,101))\n",
        "\n",
        "\n",
        "\n",
        "\n",
        "\n",
        "#medium method: \n",
        "i = 0\n",
        "result = 0\n",
        "for i in range(101):\n",
        "  result += i\n",
        "result"
      ],
      "execution_count": 0,
      "outputs": [
        {
          "output_type": "execute_result",
          "data": {
            "text/plain": [
              "5050"
            ]
          },
          "metadata": {
            "tags": []
          },
          "execution_count": 41
        }
      ]
    },
    {
      "cell_type": "markdown",
      "metadata": {
        "id": "rFpuo-IMvnxP",
        "colab_type": "text"
      },
      "source": [
        "If we list all the natural numbers below 10 that are multiples of 3 or\n",
        "5, we get 3, 5, 6 and 9. The sum of these multiples is 23.\n",
        "\n",
        "Find the sum of all the multiples of 3 or 5 below 1000.\n",
        "\n"
      ]
    },
    {
      "cell_type": "code",
      "metadata": {
        "id": "FWmRqwH9vnxQ",
        "colab_type": "code",
        "outputId": "3668228d-c947-4dcc-ee8d-2b02ca2687e8",
        "colab": {
          "base_uri": "https://localhost:8080/",
          "height": 34
        }
      },
      "source": [
        "i = 0\n",
        "a = 0\n",
        "result = 0\n",
        "for i in range(1,1000):\n",
        "  if i%3==0 or i%5==0:\n",
        "    result += i\n",
        "  \n",
        "result"
      ],
      "execution_count": 0,
      "outputs": [
        {
          "output_type": "execute_result",
          "data": {
            "text/plain": [
              "233168"
            ]
          },
          "metadata": {
            "tags": []
          },
          "execution_count": 71
        }
      ]
    },
    {
      "cell_type": "markdown",
      "metadata": {
        "id": "Jx7BKPmQvnxS",
        "colab_type": "text"
      },
      "source": [
        "Write a function `area(radius)` which calculates the area of a circle\n",
        "with the given radius. Print out `area(5)`.\n",
        "\n"
      ]
    },
    {
      "cell_type": "markdown",
      "metadata": {
        "id": "EMPTnLm9QWYZ",
        "colab_type": "text"
      },
      "source": [
        ""
      ]
    },
    {
      "cell_type": "code",
      "metadata": {
        "id": "wAkWACftvnxT",
        "colab_type": "code",
        "outputId": "69e10227-acd8-4521-c2b7-9d1cc9c22818",
        "colab": {
          "base_uri": "https://localhost:8080/",
          "height": 34
        }
      },
      "source": [
        "import math\n",
        "\n",
        "def area(radius): \n",
        "  return math.pi * radius ** 2\n",
        "\n",
        "\n",
        "area(5)"
      ],
      "execution_count": 0,
      "outputs": [
        {
          "output_type": "execute_result",
          "data": {
            "text/plain": [
              "78.53981633974483"
            ]
          },
          "metadata": {
            "tags": []
          },
          "execution_count": 114
        }
      ]
    },
    {
      "cell_type": "markdown",
      "metadata": {
        "id": "DGBWZdffvnxX",
        "colab_type": "text"
      },
      "source": [
        "In the game \"fizzbuzz\", you count out the numbers starting from 1, but\n",
        "replace multiples of 3 by \"fizz\" and multiples of 5 by \"buzz\" and\n",
        "multiples of 3 and 5 by \"fizzbuzz\". Make the cell output *a list* of\n",
        "the first 50 correct responses in fizzbuzz. E.g. a list of the first\n",
        "seven responses would be `[1, 2, \"fizz\", 4, \"buzz\", \"fizz\", 7]`\n",
        "\n"
      ]
    },
    {
      "cell_type": "code",
      "metadata": {
        "id": "-NKm4PscvnxY",
        "colab_type": "code",
        "outputId": "13803e35-b2ec-4a9f-ecfe-52ae558a5f3b",
        "colab": {
          "base_uri": "https://localhost:8080/",
          "height": 416
        }
      },
      "source": [
        "i = 0\n",
        "list_a=[]\n",
        "list_b=[]\n",
        "for i in range (1,50): \n",
        "  list_a = \n",
        "  if i%3==0:\n",
        "    list_b = list_b + list_a\n",
        "    print(\"list merging it worked\")\n",
        "  elif i%5==0:\n",
        "    \n",
        "    print(\"for 5 \")\n",
        "list_b"
      ],
      "execution_count": 0,
      "outputs": [
        {
          "output_type": "stream",
          "text": [
            "list merging it worked\n",
            "for 5 \n",
            "list merging it worked\n",
            "list merging it worked\n",
            "for 5 \n",
            "list merging it worked\n",
            "list merging it worked\n",
            "list merging it worked\n",
            "for 5 \n",
            "list merging it worked\n",
            "list merging it worked\n",
            "for 5 \n",
            "list merging it worked\n",
            "list merging it worked\n",
            "list merging it worked\n",
            "for 5 \n",
            "list merging it worked\n",
            "list merging it worked\n",
            "for 5 \n",
            "list merging it worked\n",
            "list merging it worked\n",
            "list merging it worked\n"
          ],
          "name": "stdout"
        },
        {
          "output_type": "execute_result",
          "data": {
            "text/plain": [
              "[]"
            ]
          },
          "metadata": {
            "tags": []
          },
          "execution_count": 127
        }
      ]
    },
    {
      "cell_type": "markdown",
      "metadata": {
        "id": "q2aBlwMmvnxa",
        "colab_type": "text"
      },
      "source": [
        "(To see if we have any programmers here)\n",
        "\n",
        "In England the currency is made up of pound, £, and pence, p, and there are eight coins in general circulation:\n",
        "\n",
        "1p, 2p, 5p, 10p, 20p, 50p, £1 (100p) and £2 (200p).\n",
        "\n",
        "It is possible to make £2 in the following way:\n",
        "\n",
        "1×£1 + 1×50p + 2×20p + 1×5p + 1×2p + 3×1p\n",
        "\n",
        "How many different ways can £2 be made using any number of coins?\n",
        "\n"
      ]
    },
    {
      "cell_type": "code",
      "metadata": {
        "id": "9LeDRtj9vnxa",
        "colab_type": "code",
        "colab": {}
      },
      "source": [
        ""
      ],
      "execution_count": 0,
      "outputs": []
    },
    {
      "cell_type": "markdown",
      "metadata": {
        "id": "g2HUmUCfvnxd",
        "colab_type": "text"
      },
      "source": [
        "When you're done, click on \"File\" and \"Save a Copy to Github\". It\n",
        "should transfer and then render the saved copy on github, check to\n",
        "make sure your code is there, then we're done for today!\n",
        "\n"
      ]
    }
  ]
}